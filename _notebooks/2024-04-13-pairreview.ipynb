{
 "cells": [
  {
   "cell_type": "raw",
   "metadata": {
    "vscode": {
     "languageId": "raw"
    }
   },
   "source": [
    "---\n",
    "toc: true\n",
    "comments: true\n",
    "layout: post\n",
    "title: Pair Review 1 \n",
    "description: Anvay and Yash's review of week 19 CSSE2\n",
    "---"
   ]
  },
  {
   "cell_type": "markdown",
   "metadata": {
    "vscode": {
     "languageId": "raw"
    }
   },
   "source": [
    "## Implementing and Experimenting with JavaScript Objects with our game level (Ancient Greece)\n",
    "\n",
    "To our best understanding, Javascript objects are literally just objects with different properties. In our case, the game has many objects including the floor, the background, the player, the enemies, the blocks, and much more! These objects also have their own properties. \n",
    "\n",
    "```javascript\n",
    "{ name: 'sandstone', id: 'jumpPlatform', class: BlockPlatform, data: this.assets.platforms.sandstone, xPercentage: 0.6, yPercentage: 0.34 },\n",
    "```\n",
    "\n",
    "In the above code here, we can see the object with its own properties:\n",
    "- *name: The name property sets a name for the object. In this case, it's set to 'sandstone'.\n",
    "- id: The id property specifies an identifier for the object. Here, it's set to 'jumpPlatform'.\n",
    "- class: The class property likely the class or \"type\" of the object. In this case, it's set to 'BlockPlatform'.\n",
    "- data: The data property holds some data associated with the object. \n",
    "- xPercentage: This property represents the horizontal position of the object as a percentage of the screen width/container. Here, it's set to 0.6, indicating 40% off from the right side, or 60% off from the left side.\n",
    "- yPercentage: Similarly to x-percentage, this property represents the vertical position of the object as a percentage of the screen width/container.It's set to 0.34, indicating 34%. This means that the object is placed at 66% off from the bottom of the screen, or 34% off from the top of the screen."
   ]
  },
  {
   "cell_type": "code",
   "execution_count": null,
   "metadata": {
    "vscode": {
     "languageId": "javascript"
    }
   },
   "outputs": [],
   "source": [
    "// Define an object\n",
    "let myObject = {\n",
    "    name: \"Team 1\",\n",
    "    memberCount: 6,\n",
    "    class: \"CSSE2\",\n",
    "    memberNames: [\"Anvay\", \"Yash\", \"Mihir\", \"Tianbin\", \"Quinn\", \"Lily\"],\n",
    "    classroomLocation: {\n",
    "      location: \"Del Norte High School\",\n",
    "      building: \"A\",\n",
    "      classNumber: \"101\"\n",
    "    },\n",
    "  };\n",
    "  \n",
    "  // Function to print all properties of the object\n",
    "  function printProperties(obj) {\n",
    "    console.log(\"Properties of the object:\");\n",
    "    for (let prop in obj) {\n",
    "      if (typeof obj[prop] === 'object') {\n",
    "        console.log(`${prop}:`);\n",
    "        for (let subProp in obj[prop]) {\n",
    "          console.log(`  ${subProp}: ${obj[prop][subProp]}`);\n",
    "        }\n",
    "      } else {\n",
    "        console.log(`${prop}: ${obj[prop]}`);\n",
    "      }\n",
    "    }\n",
    "  }\n",
    "  \n",
    "  // Print all properties of the object\n",
    "  printProperties(myObject);\n",
    "  "
   ]
  },
  {
   "cell_type": "markdown",
   "metadata": {},
   "source": [
    "## Utilizing Finite-State Machines (FSM)\n",
    "\n",
    "To our best understanding, Javascript objects are literally just objects with different properties. In our case, the game has many objects including the floor, the background, the player, the enemies, the blocks, and much more! These objects also have their own properties. \n",
    "\n",
    "```javascript\n",
    "knight: {\n",
    "          src: \"/images/platformer/sprites/knight.png\",\n",
    "          width: 128,\n",
    "          height: 128,\n",
    "          scaleSize: 120,\n",
    "          speedRatio: 0.7,\n",
    "          idle: {\n",
    "              left: { row: 1, frames: 23 },\n",
    "              right: { row: 0, frames: 23},\n",
    "          },\n",
    "          walk: {\n",
    "              left: { row: 7, frames: 20 },\n",
    "              right: { row: 6, frames: 20 },\n",
    "          },\n",
    "          run: {\n",
    "              left: { row: 5, frames: 23 },\n",
    "              right: { row: 4, frames: 23 },\n",
    "          },\n",
    "          jump: {\n",
    "              left: { row: 3, frames: 23 },\n",
    "              right: { row: 2, frames: 23 },\n",
    "          },\n",
    "          hitbox: { widthPercentage: 0.3, heightPercentage: 0.8 }\n",
    "        }\n",
    "```\n",
    "\n",
    "In the above code here, we can see the states of the knight, with properties assigned to each state:\n",
    "- src: the location of the sprite sheet that the knight utilizes\n",
    "- width/height: the size of one frame in the sprite sheet\n",
    "- scaleSize: the size that the frame should be scaled to when used\n",
    "- speedRatio: the speed ratio that the sprite should use in comparision to the :game speed\"\n",
    "- idle: the row and number of frames that should be ran when a key is not being pressed \n",
    "- walk: the row and number of frames that should be ran when the left or right walk key is pressed (a or d)\n",
    "- run: the row and number of frames that should be ran when the left or right run keys are pressed (as or sd)\n",
    "- jump: the row and number of frames that should be ran when the left or right jump keys are pressed (aw, w, or wd)\n",
    "- hitbox: the width/height percentage of the entire frame that should be accounted for when the player has collisions\n",
    "\n",
    "The hard part was matching all of the frames of the actual sprite sheet to the states. The steps we took to do this were:\n",
    "1. Find a sprite sheet with all of the basic required animations (idle, walk, run, jump)\n",
    "- After using this, we determined that the animations ran too fast, because there were only 8 frames per animation\n",
    "2. To fix that, I duplicated each frame twice (creating three of each frame), allowing the sprite to run an animation three times per click, essentially slowing down the frame rate\n",
    "3. There were only right facing animations, so we had to duplicate our entire spritesheet and reverse each sprite over the y-axis so that it faced the other way. This was a fairly meticulous process but the results were outstanding!"
   ]
  }
 ],
 "metadata": {
  "kernelspec": {
   "display_name": "Python 3",
   "language": "python",
   "name": "python3"
  },
  "language_info": {
   "codemirror_mode": {
    "name": "ipython",
    "version": 3
   },
   "file_extension": ".py",
   "mimetype": "text/x-python",
   "name": "python",
   "nbconvert_exporter": "python",
   "pygments_lexer": "ipython3",
   "version": "3.11.7"
  }
 },
 "nbformat": 4,
 "nbformat_minor": 2
}
